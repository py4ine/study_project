{
 "cells": [
  {
   "cell_type": "code",
   "execution_count": null,
   "id": "3e3acfc4",
   "metadata": {
    "scrolled": true
   },
   "outputs": [],
   "source": [
    "! pip install pandas numpy faker"
   ]
  },
  {
   "cell_type": "code",
   "execution_count": 1,
   "id": "3e783575",
   "metadata": {},
   "outputs": [],
   "source": [
    "import pandas as pd\n",
    "import numpy as np\n",
    "from faker import Faker\n",
    "import random\n",
    "from datetime import datetime, timedelta"
   ]
  },
  {
   "cell_type": "code",
   "execution_count": 7,
   "id": "187470af",
   "metadata": {},
   "outputs": [
    {
     "name": "stdout",
     "output_type": "stream",
     "text": [
      "  User_ID       Date Transaction_Type   Amount\n",
      "0  user_1 2023-01-01          출금:대출상환   -71050\n",
      "1  user_1 2023-01-24           입금:배당금    78855\n",
      "2  user_1 2023-01-10            입금:월급  3675195\n",
      "3  user_1 2023-02-01          출금:대출상환   -71050\n",
      "4  user_1 2023-02-10            입금:월급  3675195\n"
     ]
    }
   ],
   "source": [
    "def generate_bank_transactions(num_users, start_date, end_date, output_file=\"bank_transactions.csv\"):\n",
    "    \n",
    "    # 사용자 번호 리스트 생성\n",
    "    users_id = [f\"user_{i+1}\" for i in range(num_users)]\n",
    "    \n",
    "    # 사용자별 고정 금액 할당\n",
    "    user_salaries = {user_id: np.random.randint(2500000, 5000000) for user_id in users_id}\n",
    "    loan_repayment = {user_id: np.random.randint(0, 500000) for user_id in users_id}\n",
    "    \n",
    "    # 상시 입출금 항목 리스트 및 금액 범위\n",
    "    transaction_types = {\n",
    "        '입금:보험금': (10000, 200000),\n",
    "        '입금:배당금': (1000, 100000),\n",
    "        '출금:용돈': (-500000, -50000)\n",
    "    }\n",
    "    \n",
    "\n",
    "    # 데이터프레임 초기화\n",
    "    transaction_data = {\n",
    "        'User_ID': [],\n",
    "        'Date': [],\n",
    "        'Transaction_Type': [],\n",
    "        'Amount': []\n",
    "    }\n",
    "    \n",
    "    # 입출금 내역 생성\n",
    "    for user_id in users_id:\n",
    "        current_date = start_date\n",
    "\n",
    "        while current_date <= end_date:\n",
    "\n",
    "            # 매월 10일 월급 고정입금\n",
    "            if current_date.day == 10:\n",
    "                transaction_data['User_ID'].append(user_id)\n",
    "                transaction_data['Date'].append(current_date)\n",
    "                transaction_data['Transaction_Type'].append('입금:월급')\n",
    "                transaction_data['Amount'].append(user_salaries[user_id])  # 미리 할당된 월급 금액\n",
    "            \n",
    "            # 매월 1일 대출금 고정출금\n",
    "            if current_date.day == 1:\n",
    "                transaction_data['User_ID'].append(user_id)\n",
    "                transaction_data['Date'].append(current_date)\n",
    "                transaction_data['Transaction_Type'].append('출금:대출상환')\n",
    "                transaction_data['Amount'].append(-loan_repayment[user_id])  # 미리 할당된 금액\n",
    "                # transaction_data['Amount'].append(-np.random.randint(500000, 2000000))  # 매번랜덤\n",
    "            \n",
    "            # 해당 월의 랜덤 입출금 내역 생성\n",
    "            if current_date.day == 1:\n",
    "                num_transactions = np.random.randint(0, 2)  # 한 달에 0 ~ 2건의 거래 발생\n",
    "                for _ in range(num_transactions):\n",
    "                    lastday_of_month = (current_date.replace(month=current_date.month % 12 + 1, day=1) - timedelta(days=1)).day\n",
    "                    transaction_day = random.randint(1, lastday_of_month)  # 해당 월의 마지막 날을 기준으로 랜덤 날짜 선택\n",
    "                    transaction_date = current_date.replace(day=transaction_day)\n",
    "                    transaction_type = random.choice(list(transaction_types.keys()))\n",
    "                    amount_range = transaction_types[transaction_type]\n",
    "                    amount = np.random.randint(amount_range[0], amount_range[1])\n",
    "                    \n",
    "                    transaction_data['User_ID'].append(user_id)\n",
    "                    transaction_data['Date'].append(transaction_date)\n",
    "                    transaction_data['Transaction_Type'].append(transaction_type)\n",
    "                    transaction_data['Amount'].append(amount)\n",
    "\n",
    "            current_date += timedelta(days=1)\n",
    "\n",
    "\n",
    "    # 데이터프레임 생성\n",
    "    transaction_df = pd.DataFrame(transaction_data)\n",
    "    \n",
    "    # CSV 파일로 저장\n",
    "    transaction_df.to_csv(f'./data/{output_file}', index=False, encoding='cp949')\n",
    "    \n",
    "    return transaction_df\n",
    "\n",
    "# 사용 예시\n",
    "num_users = 1\n",
    "start_date = datetime(2023, 1, 1)\n",
    "end_date = datetime(2023, 12, 31)\n",
    "\n",
    "# 함수 호출\n",
    "transaction_df = generate_bank_transactions(num_users, start_date, end_date)\n",
    "print(transaction_df.head())  # 데이터프레임의 첫 몇 줄을 출력"
   ]
  },
  {
   "cell_type": "code",
   "execution_count": null,
   "id": "a22f6e73",
   "metadata": {},
   "outputs": [],
   "source": []
  }
 ],
 "metadata": {
  "kernelspec": {
   "display_name": "Python 3 (ipykernel)",
   "language": "python",
   "name": "python3"
  },
  "language_info": {
   "codemirror_mode": {
    "name": "ipython",
    "version": 3
   },
   "file_extension": ".py",
   "mimetype": "text/x-python",
   "name": "python",
   "nbconvert_exporter": "python",
   "pygments_lexer": "ipython3",
   "version": "3.9.12"
  }
 },
 "nbformat": 4,
 "nbformat_minor": 5
}
