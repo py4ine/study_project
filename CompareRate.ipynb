{
 "cells": [
  {
   "cell_type": "code",
   "execution_count": null,
   "metadata": {},
   "outputs": [],
   "source": [
    "import datetime\n",
    "import pandas as pd\n",
    "import yfinance as yf\n",
    "import matplotlib.pyplot as plt\n",
    "import matplotlib.dates as mdates"
   ]
  },
  {
   "cell_type": "code",
   "execution_count": null,
   "metadata": {},
   "outputs": [],
   "source": [
    "# 지표 데이터 가져오기\n",
    "stock_data = pd.read_excel('./data/index_Infomation_v0.1.xlsx')\n",
    "stock_data['Date'] = pd.to_datetime(stock_data['Date'])\n",
    "stock_data"
   ]
  },
  {
   "cell_type": "code",
   "execution_count": null,
   "metadata": {},
   "outputs": [],
   "source": [
    "compare1 = \"samsung\"  # samsung, apple\n",
    "compare2 = \"US CB Consumer Sentiment Index\"\n",
    "compare2data = \"미국 CB 소비자신뢰지수\""
   ]
  },
  {
   "cell_type": "code",
   "execution_count": null,
   "metadata": {},
   "outputs": [],
   "source": [
    "# 필요한 데이터만 가져오기\n",
    "df = stock_data[['Date', f'{compare1}_Close', f'{compare2data}', 'dollar_to_won_Close']]\n",
    "df['US_GDP_KRW'] = round(df[f'{compare2data}'] * df['dollar_to_won_Close'])\n",
    "df"
   ]
  },
  {
   "cell_type": "code",
   "execution_count": null,
   "metadata": {},
   "outputs": [],
   "source": [
    "# 애플 주식 그래프 그리기\n",
    "plt.figure(figsize=(20, 5))\n",
    "plt.plot(df['Date'], df[f'{compare1}_Close'], label=f'{compare1}')\n",
    "\n",
    "plt.title(f'{compare1} Stock Price')\n",
    "plt.xlabel('Date')\n",
    "plt.ylabel('Price')\n",
    "plt.legend()\n",
    "plt.grid(True)\n",
    "\n",
    "plt.show()"
   ]
  },
  {
   "cell_type": "code",
   "execution_count": null,
   "metadata": {},
   "outputs": [],
   "source": [
    "# 미 GDP 그래프 그리기\n",
    "plt.figure(figsize=(20,5))\n",
    "plt.plot(df['Date'], df[f'{compare2data}'], label=f'{compare2}')\n",
    "\n",
    "plt.title(f'{compare2}')\n",
    "plt.xlabel('Date')\n",
    "plt.ylabel('Price')\n",
    "plt.legend()\n",
    "plt.grid(True)\n",
    "\n",
    "plt.show()"
   ]
  },
  {
   "cell_type": "code",
   "execution_count": null,
   "metadata": {},
   "outputs": [],
   "source": [
    "# 애플 vs 미GDP 그래프 그리기\n",
    "plt.figure(figsize=(20,5))\n",
    "plt.plot(df['Date'], df[f'{compare1}_Close'], label=f'{compare1}')\n",
    "plt.plot(df['Date'], df[f'{compare2data}'], label=f'{compare2}', color='green')\n",
    "\n",
    "plt.title(f'{compare1} vs {compare2}')\n",
    "plt.xlabel('Date')\n",
    "plt.ylabel('Price')\n",
    "plt.legend()\n",
    "plt.grid(True)\n",
    "\n",
    "plt.show()"
   ]
  },
  {
   "cell_type": "code",
   "execution_count": null,
   "metadata": {},
   "outputs": [],
   "source": [
    "# 0과 1 사이의 값으로 정규화\n",
    "def normalize(df, column):\n",
    "    return (df[column] - df[column].min()) / (df[column].max() - df[column].min())"
   ]
  },
  {
   "cell_type": "code",
   "execution_count": null,
   "metadata": {},
   "outputs": [],
   "source": [
    "compare1_normalize = normalize(df, f'{compare1}_Close')\n",
    "compare2_normalize = normalize(df, f'{compare2data}')"
   ]
  },
  {
   "cell_type": "code",
   "execution_count": null,
   "metadata": {},
   "outputs": [],
   "source": [
    "# 정규화 적용 애플주식과 미GDP 그래프\n",
    "plt.figure(figsize=(20, 5))\n",
    "plt.plot(df['Date'], compare1_normalize, label=f'{compare1}')\n",
    "plt.plot(df['Date'], compare2_normalize, label=f'{compare2}', color='green')\n",
    "\n",
    "plt.title(f'{compare1} vs {compare2}')\n",
    "plt.xlabel('Date')\n",
    "plt.ylabel('Price')\n",
    "plt.legend()\n",
    "plt.grid(True)\n",
    "\n",
    "plt.show()"
   ]
  },
  {
   "cell_type": "code",
   "execution_count": null,
   "metadata": {},
   "outputs": [],
   "source": [
    "# 변동율 차이 비교\n",
    "compare1_daily_change = df[f'{compare1}_Close'].pct_change()\n",
    "compare2_daily_change = df[f'{compare2data}'].pct_change()\n",
    "\n",
    "#그래프화\n",
    "plt.figure(figsize=(20,5))\n",
    "plt.plot(df['Date'], compare1_daily_change, label=f'{compare1}')\n",
    "plt.plot(df['Date'], compare2_daily_change, label=f'{compare2}', color='green')\n",
    "plt.ylim(-0.05, 0.05)\n",
    "\n",
    "plt.xlabel('Date')\n",
    "plt.ylabel('Price')\n",
    "plt.legend()\n",
    "plt.grid(True)\n",
    "\n",
    "plt.show()"
   ]
  },
  {
   "cell_type": "code",
   "execution_count": null,
   "metadata": {},
   "outputs": [],
   "source": [
    "# 정규화 데이터로 산점도 그래프\n",
    "plt.figure(figsize=(10,10))\n",
    "plt.scatter(compare1_normalize, compare2_normalize, alpha=0.05)\n",
    "\n",
    "plt.title(f'{compare1} vs {compare2} scatter')\n",
    "plt.xlabel(f'{compare1} stock price')\n",
    "plt.ylabel(f'{compare2}')\n",
    "plt.legend()\n",
    "plt.grid(True)\n",
    "\n",
    "plt.show()"
   ]
  },
  {
   "cell_type": "code",
   "execution_count": null,
   "metadata": {},
   "outputs": [],
   "source": [
    "# Calculate the correlation\n",
    "correlation = df[f'{compare2data}'].corr(df[f'{compare1}_Close'])\n",
    "print(f\"Correlation between {compare2} and {compare1} Stock Price: {correlation:.2f}\")"
   ]
  },
  {
   "cell_type": "code",
   "execution_count": null,
   "metadata": {},
   "outputs": [],
   "source": []
  }
 ],
 "metadata": {
  "kernelspec": {
   "display_name": "base",
   "language": "python",
   "name": "python3"
  },
  "language_info": {
   "codemirror_mode": {
    "name": "ipython",
    "version": 3
   },
   "file_extension": ".py",
   "mimetype": "text/x-python",
   "name": "python",
   "nbconvert_exporter": "python",
   "pygments_lexer": "ipython3",
   "version": "3.9.12"
  }
 },
 "nbformat": 4,
 "nbformat_minor": 2
}
