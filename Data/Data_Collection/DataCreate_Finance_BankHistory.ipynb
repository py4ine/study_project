{
 "cells": [
  {
   "cell_type": "code",
   "execution_count": 1,
   "metadata": {},
   "outputs": [],
   "source": [
    "import pandas as pd\n",
    "import numpy as np\n",
    "from faker import Faker\n",
    "import random\n",
    "from datetime import datetime, timedelta"
   ]
  },
  {
   "cell_type": "code",
   "execution_count": 2,
   "metadata": {},
   "outputs": [],
   "source": [
    "num_users = 1\n",
    "start_date = \"2023-01-01\"\n",
    "end_date = \"2024-07-31\"\n",
    "output_file=\"bank_history.csv\"\n",
    "\n",
    "start_date = datetime.strptime(start_date, \"%Y-%m-%d\")\n",
    "end_date = datetime.strptime(end_date, \"%Y-%m-%d\")"
   ]
  },
  {
   "cell_type": "code",
   "execution_count": 3,
   "metadata": {},
   "outputs": [],
   "source": [
    "# 사용자 번호 리스트 생성\n",
    "users_id = [f'user_{i+1}' for i in range(num_users)]"
   ]
  },
  {
   "cell_type": "code",
   "execution_count": 4,
   "metadata": {},
   "outputs": [],
   "source": [
    "# 사용자별 고정 금액 할당\n",
    "user_salaries = {user_id: np.random.randint(2500000, 5000000) for user_id in users_id}  # 월급\n",
    "# loan_repayment = {user_id: np.random.randint(0, 500000) for user_id in users_id}  # 부채상환\n",
    "\n",
    "# # 상시 입출금 항목 리스트 및 금액 범위\n",
    "bankhistory_name = {\n",
    "    '입금:보험금': (10000, 200000),\n",
    "    '입금:배당금': (1000, 100000),\n",
    "    '입금:정부지원금': [100000, 200000, 300000],\n",
    "    '입금:당근거래입금': [5000, 10000, 20000, 30000, 50000]\n",
    "    # '출금:용돈': (-500000, -50000)\n",
    "}"
   ]
  },
  {
   "cell_type": "code",
   "execution_count": 8,
   "metadata": {},
   "outputs": [],
   "source": [
    "# 데이터프레임 초기화\n",
    "bankhistory_data = {\n",
    "    'User_ID': [],\n",
    "    'Date': [],\n",
    "    'Transaction_Type': [],\n",
    "    'Amount': [],\n",
    "    'Fixed' : []\n",
    "}\n",
    "\n",
    "# 입출금 내역 생성\n",
    "for user_id in users_id:\n",
    "    \n",
    "    # 초기 설정\n",
    "    current_date = start_date\n",
    "\n",
    "    while current_date <= end_date:\n",
    "        \n",
    "        # # 해당 월의 랜덤 입출금 내역 생성\n",
    "        if current_date.day == 1:\n",
    "            num_transactions = np.random.randint(0, 2)  # 한 달에 0 ~ 2건의 거래 발생\n",
    "            lastday_of_month = (current_date.replace(month=current_date.month % 12 + 1, day=1) - timedelta(days=1)).day  # 월말일\n",
    "            transaction_days = random.sample(range(1, lastday_of_month + 1), num_transactions)\n",
    "            transaction_days.sort()\n",
    "            \n",
    "            for date in transaction_days:\n",
    "                transaction_date = current_date.replace(day=date)  # 랜덤day를 기반으로 datetime형식 저장\n",
    "                # 발생 항목 및 금액 생성\n",
    "                transaction_type = random.choice(list(bankhistory_name.keys()))  # 항목 랜덤으로 뽑기\n",
    "                amount_range = bankhistory_name[transaction_type]  # 거래 유형에 해당하는 금액 범위 가져오기\n",
    "                if isinstance(amount_range, tuple):  # 금액범위가 튜플이면,\n",
    "                    amount = np.random.randint(amount_range[0], amount_range[1])  # 범위 내에서 랜덤 생성\n",
    "                else:  # 금액범위가 리스트면,\n",
    "                    amount = np.random.choice(amount_range)  # 금액 중에서 랜덤 생성\n",
    "                \n",
    "                # 데이터 만들기\n",
    "                bankhistory_data['User_ID'].append(user_id)\n",
    "                bankhistory_data['Date'].append(transaction_date.strftime('%Y-%m-%d'))\n",
    "                bankhistory_data['Transaction_Type'].append(transaction_type)\n",
    "                bankhistory_data['Amount'].append(amount)\n",
    "                bankhistory_data['Fixed'].append(False)\n",
    "        \n",
    "        # 매월 10일 월급 입금\n",
    "        if current_date.day == 10:\n",
    "            bankhistory_data['User_ID'].append(user_id)\n",
    "            bankhistory_data['Date'].append(current_date.strftime('%Y-%m-%d'))\n",
    "            bankhistory_data['Transaction_Type'].append('입금:월급')\n",
    "            bankhistory_data['Amount'].append(user_salaries[user_id])  # 미리 할당된 월급 금액\n",
    "            bankhistory_data['Fixed'].append(True)\n",
    "        \n",
    "        # # 매월 1일 대출금 고정출금\n",
    "        # if current_date.day == 1:\n",
    "        #     bankhistory_data['User_ID'].append(user_id)\n",
    "        #     bankhistory_data['Date'].append(current_date)\n",
    "        #     bankhistory_data['Transaction_Type'].append('출금:대출상환')\n",
    "        #     bankhistory_data['Amount'].append(-loan_repayment[user_id])  # 미리 할당된 금액\n",
    "        #     bankhistory_data['Fixed'] = True\n",
    "        #     # transaction_data['Amount'].append(-np.random.randint(500000, 2000000))  # 매번랜덤\n",
    "\n",
    "        current_date += timedelta(days=1)"
   ]
  },
  {
   "cell_type": "code",
   "execution_count": null,
   "metadata": {},
   "outputs": [],
   "source": [
    "# 데이터프레임 생성\n",
    "bankhistory_df = pd.DataFrame(bankhistory_data)\n",
    "bankhistory_df"
   ]
  },
  {
   "cell_type": "code",
   "execution_count": 22,
   "metadata": {},
   "outputs": [],
   "source": [
    "# CSV 파일로 저장\n",
    "bankhistory_df.to_csv(f'./data/{output_file}', index=False, encoding='cp949')"
   ]
  },
  {
   "cell_type": "code",
   "execution_count": null,
   "metadata": {},
   "outputs": [],
   "source": []
  }
 ],
 "metadata": {
  "kernelspec": {
   "display_name": "base",
   "language": "python",
   "name": "python3"
  },
  "language_info": {
   "codemirror_mode": {
    "name": "ipython",
    "version": 3
   },
   "file_extension": ".py",
   "mimetype": "text/x-python",
   "name": "python",
   "nbconvert_exporter": "python",
   "pygments_lexer": "ipython3",
   "version": "3.11.9"
  }
 },
 "nbformat": 4,
 "nbformat_minor": 2
}
