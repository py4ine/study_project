{
 "cells": [
  {
   "cell_type": "code",
   "execution_count": 1,
   "metadata": {},
   "outputs": [],
   "source": [
    "import pandas as pd\n",
    "import numpy as np\n",
    "from faker import Faker\n",
    "import random\n",
    "from datetime import datetime, timedelta"
   ]
  },
  {
   "cell_type": "code",
   "execution_count": 11,
   "metadata": {},
   "outputs": [],
   "source": [
    "num_users = 1\n",
    "output_file=\"asset.csv\""
   ]
  },
  {
   "cell_type": "code",
   "execution_count": 5,
   "metadata": {},
   "outputs": [],
   "source": [
    "# Faker\n",
    "fake = Faker('ko_KR')"
   ]
  },
  {
   "cell_type": "code",
   "execution_count": 6,
   "metadata": {},
   "outputs": [],
   "source": [
    "# 사용자 정보 생성\n",
    "users = []\n",
    "for i in range(num_users):\n",
    "    user = {\n",
    "        'name': fake.name(),\n",
    "        'age': np.random.randint(20, 60),\n",
    "        'gender': np.random.choice(['남자', '여자']),\n",
    "        'job' : fake.job(),\n",
    "    }\n",
    "    users.append(user)"
   ]
  },
  {
   "cell_type": "code",
   "execution_count": 7,
   "metadata": {},
   "outputs": [],
   "source": [
    "# 자산 항목 리스트\n",
    "asset_type = ['정기예금', '적금', '주식']  # '펀드', '보험', '연금', '퇴직연금', '대출', '채권'\n"
   ]
  },
  {
   "cell_type": "code",
   "execution_count": 8,
   "metadata": {},
   "outputs": [],
   "source": [
    "# 데이터프레임 초기화\n",
    "asset_data = {\n",
    "    'User' : [],\n",
    "    'Asset_type' : [],\n",
    "    'Amount' : []\n",
    "}\n",
    "\n",
    "# 자산 내역 생성\n",
    "for user in users:\n",
    "    asset_num = np.random.randint(0, 3)  # 사용자 자산항목 숫자 랜덤 세팅\n",
    "    selected_asset = np.random.choice(asset_type, asset_num, replace=False)  # 랜덤으로 자산 항목 선택\n",
    "\n",
    "    for asset in selected_asset:\n",
    "        asset_data['User'].append(user['name'])\n",
    "        asset_data['Asset_type'].append(asset)\n",
    "\n",
    "        if asset == '정기예금':\n",
    "            amount = np.random.randint(1000000, 50000000)  # 정기예금= 100만~5000만원\n",
    "        elif asset == '적금':\n",
    "            amount = np.random.randint(100000, 3000000)  # 적금= 10만~300만원\n",
    "        elif asset == '주식':\n",
    "            amount = np.random.randint(10000, 10000000)  # 주식= 1만~1000만원\n",
    "        \n",
    "        asset_data['Amount'].append(amount)"
   ]
  },
  {
   "cell_type": "code",
   "execution_count": 9,
   "metadata": {},
   "outputs": [
    {
     "data": {
      "text/html": [
       "<div>\n",
       "<style scoped>\n",
       "    .dataframe tbody tr th:only-of-type {\n",
       "        vertical-align: middle;\n",
       "    }\n",
       "\n",
       "    .dataframe tbody tr th {\n",
       "        vertical-align: top;\n",
       "    }\n",
       "\n",
       "    .dataframe thead th {\n",
       "        text-align: right;\n",
       "    }\n",
       "</style>\n",
       "<table border=\"1\" class=\"dataframe\">\n",
       "  <thead>\n",
       "    <tr style=\"text-align: right;\">\n",
       "      <th></th>\n",
       "      <th>User</th>\n",
       "      <th>Asset_type</th>\n",
       "      <th>Amount</th>\n",
       "    </tr>\n",
       "  </thead>\n",
       "  <tbody>\n",
       "    <tr>\n",
       "      <th>0</th>\n",
       "      <td>송민지</td>\n",
       "      <td>주식</td>\n",
       "      <td>9087548</td>\n",
       "    </tr>\n",
       "  </tbody>\n",
       "</table>\n",
       "</div>"
      ],
      "text/plain": [
       "  User Asset_type   Amount\n",
       "0  송민지         주식  9087548"
      ]
     },
     "execution_count": 9,
     "metadata": {},
     "output_type": "execute_result"
    }
   ],
   "source": [
    "# 자산 데이터프레임 생성\n",
    "asset_df = pd.DataFrame(asset_data)\n",
    "asset_df"
   ]
  },
  {
   "cell_type": "code",
   "execution_count": 12,
   "metadata": {},
   "outputs": [],
   "source": [
    "# CSV 파일로 저장\n",
    "asset_df.to_csv(f'./data/{output_file}', index=False, encoding='cp949')"
   ]
  },
  {
   "cell_type": "code",
   "execution_count": null,
   "metadata": {},
   "outputs": [],
   "source": []
  }
 ],
 "metadata": {
  "kernelspec": {
   "display_name": "base",
   "language": "python",
   "name": "python3"
  },
  "language_info": {
   "codemirror_mode": {
    "name": "ipython",
    "version": 3
   },
   "file_extension": ".py",
   "mimetype": "text/x-python",
   "name": "python",
   "nbconvert_exporter": "python",
   "pygments_lexer": "ipython3",
   "version": "3.9.12"
  }
 },
 "nbformat": 4,
 "nbformat_minor": 2
}
