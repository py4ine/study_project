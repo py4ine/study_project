{
 "cells": [
  {
   "cell_type": "code",
   "execution_count": null,
   "metadata": {},
   "outputs": [],
   "source": [
    "import os\n",
    "import pandas as pd"
   ]
  },
  {
   "cell_type": "code",
   "execution_count": null,
   "metadata": {},
   "outputs": [
    {
     "name": "stdout",
     "output_type": "stream",
     "text": [
      "Door 클래스 test에 해당하는 546개의 이미지 ID를 door_test_image_list.txt에 저장했습니다.\n"
     ]
    }
   ],
   "source": [
    "# 경로 설정\n",
    "# https://storage.googleapis.com/openimages/web/download_v6.html\n",
    "ANNOTATIONS_FILE = \"oidv6-test-annotations-bbox.csv\"\n",
    "CLASS_DESCRIPTIONS_FILE = \"class-descriptions.csv\"\n",
    "type = ANNOTATIONS_FILE.split('-')[1]\n",
    "OUTPUT_FILE = f'door_{type}_image_list.txt'\n",
    "\n",
    "# Door 클래스 ID\n",
    "DOOR_CLASS_ID = \"/m/02dgv\"\n",
    "\n",
    "# 데이터 로드\n",
    "annotations = pd.read_csv(ANNOTATIONS_FILE)\n",
    "class_descriptions = pd.read_csv(\n",
    "    CLASS_DESCRIPTIONS_FILE, header=None, names=[\"LabelName\", \"Class\"]\n",
    ")\n",
    "\n",
    "# Door 클래스 필터링\n",
    "door_annotations = annotations[annotations[\"LabelName\"] == DOOR_CLASS_ID]\n",
    "image_ids = door_annotations[\"ImageID\"].unique()\n",
    "\n",
    "# 이미지 목록 저장\n",
    "with open(OUTPUT_FILE, \"w\") as f:\n",
    "    for image_id in image_ids:\n",
    "        f.write(f\"{type}/{image_id}\\n\")\n",
    "\n",
    "print(f\"Door 클래스 {type}에 해당하는 {len(image_ids)}개의 이미지 ID를 {OUTPUT_FILE}에 저장했습니다.\")"
   ]
  },
  {
   "cell_type": "code",
   "execution_count": 61,
   "metadata": {},
   "outputs": [
    {
     "name": "stdout",
     "output_type": "stream",
     "text": [
      "python getDoorImage_script.py door_test_image_list.txt --download_folder door_images --num_processes 10\n"
     ]
    }
   ],
   "source": [
    "print(f\"python getDoorImage_script.py door_{type}_image_list.txt --download_folder door_images --num_processes 10\")"
   ]
  },
  {
   "cell_type": "code",
   "execution_count": 62,
   "metadata": {},
   "outputs": [],
   "source": [
    "# 라벨링 데이터와 이미지 연결\n",
    "# 파일 경로 설정\n",
    "ANNOTATIONS_FILE = f\"oidv6-{type}-annotations-bbox.csv\"\n",
    "CLASS_DESCRIPTIONS_FILE = \"class-descriptions.csv\"\n",
    "\n",
    "# Door 클래스 ID\n",
    "DOOR_CLASS_ID = \"/m/02dgv\"\n",
    "\n",
    "# 라벨링 데이터 로드\n",
    "annotations = pd.read_csv(ANNOTATIONS_FILE)\n",
    "class_descriptions = pd.read_csv(CLASS_DESCRIPTIONS_FILE, header=None, names=[\"LabelName\", \"Class\"])\n",
    "\n",
    "# Door 클래스 라벨링 정보 필터링\n",
    "door_annotations = annotations[annotations[\"LabelName\"] == DOOR_CLASS_ID]\n",
    "\n",
    "# # 결과 확인\n",
    "# print(door_annotations.head())\n",
    "\n",
    "\n",
    "# 라벨링 데이터와 이미지 결합\n",
    "# 다운로드한 이미지 경로\n",
    "IMAGE_DIR = \"door_images\"\n",
    "OUTPUT_DIR = \"labeled_data\"\n",
    "os.makedirs(OUTPUT_DIR, exist_ok=True)\n",
    "\n",
    "# Door 클래스 이미지와 라벨링 데이터 결합\n",
    "for image_id in os.listdir(IMAGE_DIR):\n",
    "    image_id = image_id.replace(\".jpg\", \"\")\n",
    "    image_annotations = door_annotations[door_annotations[\"ImageID\"] == image_id]\n",
    "    \n",
    "    if not image_annotations.empty:\n",
    "        # 라벨링 데이터 저장\n",
    "        label_file = os.path.join(OUTPUT_DIR, f\"{image_id}.txt\")\n",
    "        with open(label_file, \"w\") as f:\n",
    "            for _, row in image_annotations.iterrows():\n",
    "                bbox = [row[\"XMin\"], row[\"YMin\"], row[\"XMax\"], row[\"YMax\"]]\n",
    "                f.write(f\"{DOOR_CLASS_ID} \" + \" \".join(map(str, bbox)) + \"\\n\")"
   ]
  },
  {
   "cell_type": "code",
   "execution_count": 36,
   "metadata": {},
   "outputs": [],
   "source": []
  }
 ],
 "metadata": {
  "kernelspec": {
   "display_name": "p2",
   "language": "python",
   "name": "python3"
  },
  "language_info": {
   "codemirror_mode": {
    "name": "ipython",
    "version": 3
   },
   "file_extension": ".py",
   "mimetype": "text/x-python",
   "name": "python",
   "nbconvert_exporter": "python",
   "pygments_lexer": "ipython3",
   "version": "3.9.21"
  }
 },
 "nbformat": 4,
 "nbformat_minor": 2
}
