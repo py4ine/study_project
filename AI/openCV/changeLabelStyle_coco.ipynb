{
 "cells": [
  {
   "cell_type": "code",
   "execution_count": 17,
   "metadata": {},
   "outputs": [],
   "source": [
    "import os\n",
    "import json\n",
    "from PIL import Image"
   ]
  },
  {
   "cell_type": "code",
   "execution_count": 25,
   "metadata": {},
   "outputs": [],
   "source": [
    "# 입력 데이터 경로\n",
    "type = \"val\"\n",
    "label_dir = f\"./door_image_set/{type}/labels\"  # 기존 라벨 파일 디렉토리\n",
    "image_dir = f\"./door_image_set/{type}/images\"  # 이미지 파일 디렉토리\n",
    "output_file = f\"{type}_coco_annotations.json\"  # COCO JSON 파일 이름\n",
    "\n",
    "# 클래스 ID 매핑\n",
    "class_id_mapping = {\"/m/02dgv\": 81}  # Door 클래스 ID를 숫자로 매핑\n",
    "\n",
    "# COCO 데이터 구조 초기화\n",
    "coco_data = {\n",
    "    \"images\": [],\n",
    "    \"annotations\": [],\n",
    "    \"categories\": [{\"id\": 81, \"name\": \"door\"}]  # Door 클래스 추가\n",
    "}\n",
    "\n",
    "# # 클래스 정보 추가\n",
    "# for class_name, class_id in class_id_mapping.items():\n",
    "#     coco_data[\"categories\"].append({\n",
    "#         \"id\": class_id,\n",
    "#         \"name\": class_name.split(\"/\")[-1]\n",
    "#     })\n",
    "\n",
    "# ID 초기화\n",
    "image_id = 0\n",
    "annotation_id = 0"
   ]
  },
  {
   "cell_type": "code",
   "execution_count": 26,
   "metadata": {},
   "outputs": [],
   "source": [
    "# 이미지와 라벨 데이터 변환\n",
    "for label_file in os.listdir(label_dir):\n",
    "    # 이미지 파일과 매칭\n",
    "    image_file = label_file.replace(\".txt\", \".jpg\")\n",
    "    image_path = os.path.join(image_dir, image_file)\n",
    "\n",
    "    # (Pillow 사용) 이미지 크기 확인\n",
    "    with Image.open(image_path) as img:\n",
    "        width, height = img.size\n",
    "\n",
    "    # COCO 이미지 정보 추가\n",
    "    image_id += 1\n",
    "    coco_data[\"images\"].append({\n",
    "        \"id\": image_id,\n",
    "        \"file_name\": image_file,\n",
    "        \"width\": width,\n",
    "        \"height\": height\n",
    "    })\n",
    "\n",
    "    # 라벨 파일 읽기 및 COCO Annotation 추가\n",
    "    label_path = os.path.join(label_dir, label_file)\n",
    "    with open(label_path, \"r\") as f:\n",
    "        for line in f:\n",
    "            parts = line.strip().split()\n",
    "            class_name = parts[0]\n",
    "            x_min, y_min, width_ratio, height_ratio = map(float, parts[1:])\n",
    "\n",
    "            # 클래스 ID 변환\n",
    "            category_id = class_id_mapping.get(class_name, -1)\n",
    "            if category_id == -1:\n",
    "                print(f\"Unknown class: {class_name}\")\n",
    "                continue\n",
    "\n",
    "            # Bounding Box 절대 좌표 계산\n",
    "            bbox = [\n",
    "                x_min * width,                # x_min 절대 좌표\n",
    "                y_min * height,               # y_min 절대 좌표\n",
    "                width_ratio * width,          # Bounding Box 너비\n",
    "                height_ratio * height         # Bounding Box 높이\n",
    "            ]\n",
    "\n",
    "            # COCO Annotation 추가\n",
    "            annotation_id += 1\n",
    "            coco_data[\"annotations\"].append({\n",
    "                \"id\": annotation_id,\n",
    "                \"image_id\": image_id,\n",
    "                \"category_id\": category_id,\n",
    "                \"bbox\": bbox,\n",
    "                \"area\": bbox[2] * bbox[3],  # 면적 계산\n",
    "                \"iscrowd\": 0\n",
    "            })"
   ]
  },
  {
   "cell_type": "code",
   "execution_count": 27,
   "metadata": {},
   "outputs": [],
   "source": [
    "# COCO JSON 파일 저장\n",
    "with open(output_file, \"w\") as f:\n",
    "    json.dump(coco_data, f, indent=4)"
   ]
  },
  {
   "cell_type": "code",
   "execution_count": null,
   "metadata": {},
   "outputs": [],
   "source": []
  }
 ],
 "metadata": {
  "kernelspec": {
   "display_name": "p2",
   "language": "python",
   "name": "python3"
  },
  "language_info": {
   "codemirror_mode": {
    "name": "ipython",
    "version": 3
   },
   "file_extension": ".py",
   "mimetype": "text/x-python",
   "name": "python",
   "nbconvert_exporter": "python",
   "pygments_lexer": "ipython3",
   "version": "3.9.21"
  }
 },
 "nbformat": 4,
 "nbformat_minor": 2
}
