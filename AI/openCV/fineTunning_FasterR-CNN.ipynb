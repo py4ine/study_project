{
 "cells": [
  {
   "cell_type": "code",
   "execution_count": 3,
   "metadata": {},
   "outputs": [],
   "source": [
    "import json\n",
    "import os\n",
    "from PIL import Image\n",
    "import torch\n",
    "from torch.utils.data import Dataset"
   ]
  },
  {
   "cell_type": "code",
   "execution_count": null,
   "metadata": {},
   "outputs": [],
   "source": [
    "# COCO JSON 파일 로드\n",
    "type = 'val'\n",
    "data_dir = f\"../../../Data/door_image_set/{type}\"\n",
    "with open(f\"{data_dir}/{type}_coco_annotations.json\", \"r\") as f:\n",
    "    coco_data = json.load(f)\n",
    "\n",
    "# 데이터 확인\n",
    "print(\"Images:\", len(coco_data[\"images\"]))\n",
    "print(\"Annotations:\", len(coco_data[\"annotations\"]))\n",
    "print(\"Categories:\", len(coco_data[\"categories\"]))"
   ]
  },
  {
   "cell_type": "code",
   "execution_count": null,
   "metadata": {},
   "outputs": [],
   "source": [
    "class CustomCocoDataset(Dataset):\n",
    "    def __init__(self, image_dir, annotation_file, transforms=None):\n",
    "        self.image_dir = image_dir\n",
    "        self.transforms = transforms\n",
    "\n",
    "        # COCO JSON 로드\n",
    "        with open(annotation_file, \"r\") as f:\n",
    "            self.coco_data = json.load(f)\n",
    "\n",
    "        self.images = self.coco_data[\"images\"]\n",
    "        self.annotations = self.coco_data[\"annotations\"]\n",
    "        self.categories = self.coco_data[\"categories\"]\n",
    "\n",
    "        # 이미지 ID와 주석 매핑\n",
    "        self.image_id_to_annotations = {img[\"id\"]: [] for img in self.images}\n",
    "        for ann in self.annotations:\n",
    "            self.image_id_to_annotations[ann[\"image_id\"]].append(ann)\n",
    "\n",
    "    def __len__(self):\n",
    "        return len(self.images)\n",
    "\n",
    "    def __getitem__(self, idx):\n",
    "        # 이미지 로드\n",
    "        image_info = self.images[idx]\n",
    "        image_path = os.path.join(self.image_dir, image_info[\"file_name\"])\n",
    "        image = Image.open(image_path).convert(\"RGB\")\n",
    "\n",
    "        # 바운딩 박스 및 라벨 로드\n",
    "        annotations = self.image_id_to_annotations[image_info[\"id\"]]\n",
    "        boxes = []\n",
    "        labels = []\n",
    "        for ann in annotations:\n",
    "            boxes.append(ann[\"bbox\"])\n",
    "            labels.append(ann[\"category_id\"])\n",
    "\n",
    "        # Tensor로 변환\n",
    "        boxes = torch.tensor(boxes, dtype=torch.float32)\n",
    "        labels = torch.tensor(labels, dtype=torch.int64)\n",
    "\n",
    "        target = {\n",
    "            \"boxes\": boxes,\n",
    "            \"labels\": labels,\n",
    "            \"image_id\": torch.tensor([image_info[\"id\"]]),\n",
    "        }\n",
    "\n",
    "        if self.transforms:\n",
    "            image, target = self.transforms(image, target)\n",
    "\n",
    "        return image, target\n",
    "\n",
    "# 데이터셋 초기화\n",
    "train_dataset = CustomCocoDataset(\n",
    "    image_dir=f\"{data_dir}/images\",\n",
    "    annotation_file=f\"{data_dir}/{type}_coco_annotations.json\",\n",
    "    transforms=None\n",
    ")\n",
    "\n",
    "# 데이터셋 확인\n",
    "print(len(train_dataset))"
   ]
  },
  {
   "cell_type": "code",
   "execution_count": 8,
   "metadata": {},
   "outputs": [],
   "source": [
    "# Faster R-CNN 파인튜닝\n",
    "from torchvision.models.detection import fasterrcnn_resnet50_fpn\n",
    "from torch.utils.data import DataLoader\n",
    "import torchvision\n",
    "import torch"
   ]
  },
  {
   "cell_type": "code",
   "execution_count": null,
   "metadata": {},
   "outputs": [],
   "source": [
    "# Pre-trained 모델 불러오기\n",
    "model = fasterrcnn_resnet50_fpn(pretrained=True)"
   ]
  },
  {
   "cell_type": "code",
   "execution_count": 10,
   "metadata": {},
   "outputs": [],
   "source": [
    "# 데이터셋 정의 (CustomCocoDataset 사용)\n",
    "train_dataset = CustomCocoDataset(\n",
    "    image_dir=f\"{data_dir}/images\",\n",
    "    annotation_file=f\"{data_dir}/{type}_coco_annotations.json\"\n",
    ")\n",
    "train_loader = DataLoader(train_dataset, batch_size=4, shuffle=True, num_workers=4)"
   ]
  },
  {
   "cell_type": "code",
   "execution_count": 11,
   "metadata": {},
   "outputs": [],
   "source": [
    "# 모델 초기화 및 출력 레이어 수정\n",
    "model = fasterrcnn_resnet50_fpn(pretrained=True)"
   ]
  },
  {
   "cell_type": "code",
   "execution_count": 12,
   "metadata": {},
   "outputs": [],
   "source": [
    "# num_classes 수정: 1 (door) + 1 (background)\n",
    "num_classes = 2\n",
    "in_features = model.roi_heads.box_predictor.cls_score.in_features\n",
    "model.roi_heads.box_predictor = torchvision.models.detection.faster_rcnn.FastRCNNPredictor(\n",
    "    in_features, num_classes\n",
    ")"
   ]
  },
  {
   "cell_type": "code",
   "execution_count": null,
   "metadata": {},
   "outputs": [],
   "source": [
    "# GPU로 이동\n",
    "# model.to(\"cuda\")\n",
    "model.to(\"cpu\")"
   ]
  },
  {
   "cell_type": "code",
   "execution_count": 14,
   "metadata": {},
   "outputs": [],
   "source": [
    "# 옵티마이저 설정\n",
    "optimizer = torch.optim.SGD(model.parameters(), lr=0.005, momentum=0.9)"
   ]
  },
  {
   "cell_type": "code",
   "execution_count": null,
   "metadata": {},
   "outputs": [],
   "source": [
    "# 학습 루프\n",
    "for epoch in range(10):\n",
    "    model.train()\n",
    "    for images, targets in train_loader:\n",
    "        # images = [img.to(\"cuda\") for img in images]\n",
    "        # targets = [{k: v.to(\"cuda\") for k, v in t.items()} for t in targets]\n",
    "\n",
    "        # CPU 사용\n",
    "        images = [img.to(\"cpu\") for img in images]\n",
    "        targets = [{k: v.to(\"cpu\") for k, v in t.items()} for t in targets]\n",
    "\n",
    "        loss_dict = model(images, targets)\n",
    "        losses = sum(loss for loss in loss_dict.values())\n",
    "\n",
    "        optimizer.zero_grad()\n",
    "        losses.backward()\n",
    "        optimizer.step()\n",
    "\n",
    "    print(f\"Epoch {epoch}, Loss: {losses.item()}\")"
   ]
  },
  {
   "cell_type": "code",
   "execution_count": null,
   "metadata": {},
   "outputs": [],
   "source": [
    "data_dir"
   ]
  },
  {
   "cell_type": "code",
   "execution_count": null,
   "metadata": {},
   "outputs": [],
   "source": [
    "from PIL import Image\n",
    "\n",
    "# COCO JSON 로드\n",
    "annotation_file = f\"{data_dir}/{type}_coco_annotations.json\"\n",
    "image_dir = f\"{data_dir}/images\"\n",
    "\n",
    "with open(annotation_file, \"r\") as f:\n",
    "    coco_data = json.load(f)\n",
    "\n",
    "# 이미지 ID와 이미지 파일 검증\n",
    "valid_image_ids = set(img[\"id\"] for img in coco_data[\"images\"])\n",
    "\n",
    "for ann in coco_data[\"annotations\"]:\n",
    "    # image_id 확인\n",
    "    if ann[\"image_id\"] not in valid_image_ids:\n",
    "        print(f\"Invalid image_id: {ann['image_id']} in annotation {ann}\")\n",
    "\n",
    "    # Bounding Box 확인\n",
    "    bbox = ann[\"bbox\"]\n",
    "    if len(bbox) != 4 or any(coord < 0 for coord in bbox):\n",
    "        print(f\"Invalid bbox: {bbox} in annotation {ann}\")\n",
    "\n",
    "    # 이미지 크기와 Bounding Box 확인\n",
    "    image_info = next((img for img in coco_data[\"images\"] if img[\"id\"] == ann[\"image_id\"]), None)\n",
    "    if image_info:\n",
    "        width, height = image_info[\"width\"], image_info[\"height\"]\n",
    "        x, y, w, h = bbox\n",
    "        if x + w > width or y + h > height:\n",
    "            print(f\"Bbox exceeds image bounds: {bbox} in annotation {ann}\")\n"
   ]
  },
  {
   "cell_type": "code",
   "execution_count": 18,
   "metadata": {},
   "outputs": [],
   "source": [
    "for img_info in coco_data[\"images\"]:\n",
    "    img_path = os.path.join(image_dir, img_info[\"file_name\"])\n",
    "    try:\n",
    "        with Image.open(img_path) as img:\n",
    "            img.verify()\n",
    "    except Exception as e:\n",
    "        print(f\"Invalid image file: {img_path}, Error: {e}\")"
   ]
  },
  {
   "cell_type": "code",
   "execution_count": null,
   "metadata": {},
   "outputs": [],
   "source": [
    "valid_annotations = []\n",
    "for ann in coco_data[\"annotations\"]:\n",
    "    bbox = ann[\"bbox\"]\n",
    "    if len(bbox) == 4 and all(coord >= 0 for coord in bbox):\n",
    "        valid_annotations.append(ann)\n",
    "\n",
    "coco_data[\"annotations\"] = valid_annotations\n",
    "\n",
    "# 수정된 JSON 저장\n",
    "with open(\"val_labels_fixed.json\", \"w\") as f:\n",
    "    json.dump(coco_data, f, indent=4)\n"
   ]
  },
  {
   "cell_type": "code",
   "execution_count": null,
   "metadata": {},
   "outputs": [],
   "source": [
    "from PIL import Image, ImageDraw, ImageFont\n",
    "\n",
    "# 경로 설정\n",
    "annotation_file = f\"{data_dir}/{type}_coco_annotations.json\"  # COCO JSON 파일\n",
    "image_dir = f\"{data_dir}/images\"  # 원본 이미지 경로\n",
    "output_dir = f\"visualized_images\"  # 시각화된 이미지 저장 경로\n",
    "os.makedirs(output_dir, exist_ok=True)\n",
    "\n",
    "# COCO JSON 파일 로드\n",
    "with open(annotation_file, \"r\") as f:\n",
    "    coco_data = json.load(f)\n",
    "\n",
    "# 이미지 ID와 파일명 매핑\n",
    "image_id_to_filename = {img[\"id\"]: img[\"file_name\"] for img in coco_data[\"images\"]}\n",
    "\n",
    "# Bounding Box를 이미지에 그리기\n",
    "for ann in coco_data[\"annotations\"]:\n",
    "    image_id = ann[\"image_id\"]\n",
    "    bbox = ann[\"bbox\"]\n",
    "    category_id = ann[\"category_id\"]\n",
    "\n",
    "    # 이미지 파일 경로 확인\n",
    "    if image_id not in image_id_to_filename:\n",
    "        print(f\"Image ID {image_id} not found in images.\")\n",
    "        continue\n",
    "\n",
    "    image_file = os.path.join(image_dir, image_id_to_filename[image_id])\n",
    "    if not os.path.exists(image_file):\n",
    "        print(f\"Image file {image_file} not found.\")\n",
    "        continue\n",
    "\n",
    "    # 이미지 로드\n",
    "    try:\n",
    "        img = Image.open(image_file)\n",
    "    except Exception as e:\n",
    "        print(f\"Failed to load image: {image_file}, Error: {e}\")\n",
    "        continue\n",
    "\n",
    "    # 드로잉 객체 생성\n",
    "    draw = ImageDraw.Draw(img)\n",
    "    x, y, w, h = bbox\n",
    "    x1, y1, x2, y2 = x, y, x + w, y + h\n",
    "\n",
    "    # Bounding Box 그리기\n",
    "    box_color = (0, 255, 0)  # 초록색\n",
    "    draw.rectangle([x1, y1, x2, y2], outline=box_color, width=3)\n",
    "\n",
    "    # 클래스 ID 표시\n",
    "    text_color = (255, 0, 0)  # 빨간색\n",
    "    font_size = 20\n",
    "    try:\n",
    "        font = ImageFont.truetype(\"arial.ttf\", font_size)\n",
    "    except IOError:\n",
    "        font = ImageFont.load_default()  # 기본 폰트 사용\n",
    "    draw.text((x1, y1 - font_size), f\"Class: {category_id}\", fill=text_color, font=font)\n",
    "\n",
    "    # 시각화된 이미지 저장\n",
    "    output_path = os.path.join(output_dir, image_id_to_filename[image_id])\n",
    "    img.save(output_path)\n",
    "\n",
    "print(f\"시각화된 이미지가 {output_dir}에 저장되었습니다.\")\n",
    "\n",
    "\n"
   ]
  },
  {
   "cell_type": "code",
   "execution_count": null,
   "metadata": {},
   "outputs": [],
   "source": [
    "# 그려진 바운딩 박스 이상 있음 -> 박스 좌표 다시 그리는거 필요"
   ]
  }
 ],
 "metadata": {
  "kernelspec": {
   "display_name": "p2",
   "language": "python",
   "name": "python3"
  },
  "language_info": {
   "codemirror_mode": {
    "name": "ipython",
    "version": 3
   },
   "file_extension": ".py",
   "mimetype": "text/x-python",
   "name": "python",
   "nbconvert_exporter": "python",
   "pygments_lexer": "ipython3",
   "version": "3.9.21"
  }
 },
 "nbformat": 4,
 "nbformat_minor": 2
}
